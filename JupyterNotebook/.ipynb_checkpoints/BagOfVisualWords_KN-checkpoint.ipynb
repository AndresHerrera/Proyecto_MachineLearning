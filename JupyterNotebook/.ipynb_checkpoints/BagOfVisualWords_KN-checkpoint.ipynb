{
 "cells": [
  {
   "cell_type": "code",
   "execution_count": 6,
   "metadata": {},
   "outputs": [],
   "source": [
    "import numpy as np\n",
    "from sklearn.preprocessing import StandardScaler\n",
    "from sklearn.model_selection import train_test_split\n",
    "from sklearn.metrics import confusion_matrix\n",
    "from sklearn.neighbors import KNeighborsClassifier"
   ]
  },
  {
   "cell_type": "code",
   "execution_count": 7,
   "metadata": {},
   "outputs": [],
   "source": [
    "import imagedataset as imgdat\n",
    "import bagofvisualwords as bovw"
   ]
  },
  {
   "cell_type": "code",
   "execution_count": 8,
   "metadata": {},
   "outputs": [],
   "source": [
    "#Get Annotations\n",
    "annotations = imgdat.GetAnnotations()"
   ]
  },
  {
   "cell_type": "code",
   "execution_count": 9,
   "metadata": {},
   "outputs": [
    {
     "name": "stdout",
     "output_type": "stream",
     "text": [
      "Loading all sift descriptors in dataset from file...\n",
      "All descriptors loaded ! \n"
     ]
    }
   ],
   "source": [
    "#Try to load all descriptors previously generated if not generate one\n",
    "try:\n",
    "    all_descriptors = imgdat.LoadAllDescriptors()\n",
    "except:\n",
    "    all_descriptors = imgdat.GenerateAllDescriptors(annotations)"
   ]
  },
  {
   "cell_type": "code",
   "execution_count": 10,
   "metadata": {},
   "outputs": [],
   "source": [
    "#Use standardscaler for all SIFT descriptors before process them with any representation algorithm.\n",
    "sc_dscs = StandardScaler()\n",
    "all_descriptors = sc_dscs.fit_transform(all_descriptors)"
   ]
  },
  {
   "cell_type": "code",
   "execution_count": 11,
   "metadata": {},
   "outputs": [
    {
     "name": "stdout",
     "output_type": "stream",
     "text": [
      "Loading kmeans...\n",
      "bovw_centers.kmeans Loaded !\n"
     ]
    }
   ],
   "source": [
    "#Clustering descriptors using KMeans in 120 classes \n",
    "try:\n",
    "    kmeans_bovw = bovw.LoadKmeans()\n",
    "except:\n",
    "    n_clusters = 120\n",
    "    kmeans_bovw = bovw.GenerateKmeans(all_descriptors, n_clusters)"
   ]
  },
  {
   "cell_type": "code",
   "execution_count": 12,
   "metadata": {},
   "outputs": [],
   "source": [
    "#Image representation\n",
    "try:\n",
    "    X_bovw = np.load(\"bovw_X.npy\")\n",
    "    y_bovw = np.load(\"bovw_y.npy\")\n",
    "except:\n",
    "    X_bovw, y_bovw = bovw.BovwFeatures(annotations, kmeans_bovw, sc_dscs)\n",
    "    np.save(\"bovw_X\", X_bovw)\n",
    "    np.save(\"bovw_y\", y_bovw)"
   ]
  },
  {
   "cell_type": "code",
   "execution_count": 13,
   "metadata": {},
   "outputs": [],
   "source": [
    "#Classification \n",
    "#Dataset splitting into the training set and test set\n",
    "X_train_bovw, X_test_bovw, y_train_bovw, y_test_bovw = train_test_split(X_bovw, y_bovw, test_size = 0.2, random_state = 0)"
   ]
  },
  {
   "cell_type": "code",
   "execution_count": 14,
   "metadata": {},
   "outputs": [
    {
     "name": "stderr",
     "output_type": "stream",
     "text": [
      "C:\\Anaconda2\\envs\\tensorflowproject\\lib\\site-packages\\sklearn\\utils\\validation.py:475: DataConversionWarning: Data with input dtype int64 was converted to float64 by StandardScaler.\n",
      "  warnings.warn(msg, DataConversionWarning)\n"
     ]
    }
   ],
   "source": [
    "#Scaling representation features\n",
    "sc_repr_bovw = StandardScaler()\n",
    "X_train_bovw = sc_repr_bovw.fit_transform(X_train_bovw)\n",
    "X_test_bovw = sc_repr_bovw.transform(X_test_bovw)"
   ]
  },
  {
   "cell_type": "code",
   "execution_count": 16,
   "metadata": {},
   "outputs": [
    {
     "name": "stdout",
     "output_type": "stream",
     "text": [
      "==========\n",
      "train score:0.966921119593\n",
      "test score:0.838383838384\n"
     ]
    }
   ],
   "source": [
    "#Using k-nearest neighbors Classifier\n",
    "clf_kn = KNeighborsClassifier(n_neighbors=3)\n",
    "clf_kn.fit(X_train_bovw, y_train_bovw)\n",
    "print('==========')\n",
    "print('train score:' + str(clf_kn.score(X_train_bovw,y_train_bovw)))\n",
    "print('test score:' + str(clf_kn.score(X_test_bovw,y_test_bovw)))"
   ]
  },
  {
   "cell_type": "code",
   "execution_count": null,
   "metadata": {},
   "outputs": [],
   "source": []
  }
 ],
 "metadata": {
  "kernelspec": {
   "display_name": "Python 3",
   "language": "python",
   "name": "python3"
  },
  "language_info": {
   "codemirror_mode": {
    "name": "ipython",
    "version": 3
   },
   "file_extension": ".py",
   "mimetype": "text/x-python",
   "name": "python",
   "nbconvert_exporter": "python",
   "pygments_lexer": "ipython3",
   "version": "3.5.4"
  }
 },
 "nbformat": 4,
 "nbformat_minor": 2
}
