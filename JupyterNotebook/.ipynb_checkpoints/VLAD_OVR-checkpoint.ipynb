{
 "cells": [
  {
   "cell_type": "code",
   "execution_count": 1,
   "metadata": {},
   "outputs": [],
   "source": [
    "import numpy as np\n",
    "from sklearn.preprocessing import StandardScaler\n",
    "from sklearn.model_selection import train_test_split\n",
    "from sklearn.metrics import confusion_matrix\n",
    "from sklearn.neural_network import MLPClassifier\n",
    "from sklearn.multiclass import OneVsRestClassifier\n",
    "from sklearn.svm import SVC, LinearSVC"
   ]
  },
  {
   "cell_type": "code",
   "execution_count": 2,
   "metadata": {},
   "outputs": [],
   "source": [
    "import imagedataset as imgdat\n",
    "import vlad"
   ]
  },
  {
   "cell_type": "code",
   "execution_count": 3,
   "metadata": {},
   "outputs": [],
   "source": [
    "#Get Annotations\n",
    "annotations = imgdat.GetAnnotations()"
   ]
  },
  {
   "cell_type": "code",
   "execution_count": 4,
   "metadata": {},
   "outputs": [
    {
     "name": "stdout",
     "output_type": "stream",
     "text": [
      "Loading all sift descriptors in dataset from file...\n",
      "All descriptors loaded ! \n"
     ]
    }
   ],
   "source": [
    "#Try to load all descriptors previously generated if not generate one\n",
    "try:\n",
    "    all_descriptors = imgdat.LoadAllDescriptors()\n",
    "except:\n",
    "    all_descriptors = imgdat.GenerateAllDescriptors(annotations)"
   ]
  },
  {
   "cell_type": "code",
   "execution_count": 5,
   "metadata": {},
   "outputs": [],
   "source": [
    "#Use standardscaler for all SIFT descriptors before process them with any representation algorithm.\n",
    "sc_dscs = StandardScaler()\n",
    "all_descriptors = sc_dscs.fit_transform(all_descriptors)"
   ]
  },
  {
   "cell_type": "code",
   "execution_count": 6,
   "metadata": {},
   "outputs": [
    {
     "name": "stdout",
     "output_type": "stream",
     "text": [
      "Loading kmeans...\n"
     ]
    }
   ],
   "source": [
    "#Clustering descriptors using KMeans in 120 classes \n",
    "try:\n",
    "    kmeans_vlad = vlad.LoadKmeans()\n",
    "except:\n",
    "    n_clusters = 120\n",
    "    kmeans_vlad = vlad.GenerateKmeans(all_descriptors, n_clusters)"
   ]
  },
  {
   "cell_type": "code",
   "execution_count": 7,
   "metadata": {},
   "outputs": [],
   "source": [
    "#Image representation\n",
    "try:\n",
    "    X_vlad = np.load(\"vlad_X.npy\")\n",
    "    y_vlad = np.load(\"vlad_y.npy\")\n",
    "except:\n",
    "    X_vlad, y_vlad = vlad.VladFeatures(annotations, kmeans_vlad, sc_dscs)\n",
    "    np.save(\"vlad_X\", X_vlad)\n",
    "    np.save(\"vlad_y\", y_vlad)"
   ]
  },
  {
   "cell_type": "code",
   "execution_count": 8,
   "metadata": {},
   "outputs": [],
   "source": [
    "#Classification \n",
    "#Dataset splitting into the training set and test set\n",
    "X_train_vlad, X_test_vlad, y_train_vlad, y_test_vlad = train_test_split(X_vlad, y_vlad, test_size = 0.2, random_state = 0)"
   ]
  },
  {
   "cell_type": "code",
   "execution_count": 9,
   "metadata": {},
   "outputs": [],
   "source": [
    "#Scaling representation features\n",
    "sc_repr_vlad = StandardScaler()\n",
    "X_train_vlad = sc_repr_vlad.fit_transform(X_train_vlad)\n",
    "X_test_vlad = sc_repr_vlad.transform(X_test_vlad)"
   ]
  },
  {
   "cell_type": "code",
   "execution_count": 10,
   "metadata": {},
   "outputs": [
    {
     "name": "stdout",
     "output_type": "stream",
     "text": [
      "==========\n",
      "score: 0.878787878788\n",
      "n_neurons: 100\n",
      "[[34  4]\n",
      " [ 8 53]]\n",
      "==========\n",
      "score: 0.858585858586\n",
      "n_neurons: 101\n",
      "[[33  5]\n",
      " [ 9 52]]\n",
      "==========\n",
      "score: 0.878787878788\n",
      "n_neurons: 102\n",
      "[[33  5]\n",
      " [ 7 54]]\n",
      "==========\n",
      "score: 0.878787878788\n",
      "n_neurons: 103\n",
      "[[33  5]\n",
      " [ 7 54]]\n",
      "==========\n",
      "score: 0.848484848485\n",
      "n_neurons: 104\n",
      "[[31  7]\n",
      " [ 8 53]]\n",
      "==========\n",
      "score: 0.717171717172\n",
      "n_neurons: 105\n",
      "[[33  5]\n",
      " [23 38]]\n",
      "==========\n",
      "score: 0.727272727273\n",
      "n_neurons: 106\n",
      "[[33  5]\n",
      " [22 39]]\n",
      "==========\n",
      "score: 0.868686868687\n",
      "n_neurons: 107\n",
      "[[33  5]\n",
      " [ 8 53]]\n",
      "==========\n",
      "score: 0.868686868687\n",
      "n_neurons: 108\n",
      "[[32  6]\n",
      " [ 7 54]]\n",
      "==========\n",
      "score: 0.868686868687\n",
      "n_neurons: 109\n",
      "[[34  4]\n",
      " [ 9 52]]\n",
      "==========\n",
      "score: 0.717171717172\n",
      "n_neurons: 110\n",
      "[[24 14]\n",
      " [14 47]]\n",
      "==========\n",
      "score: 0.848484848485\n",
      "n_neurons: 111\n",
      "[[33  5]\n",
      " [10 51]]\n",
      "==========\n",
      "score: 0.858585858586\n",
      "n_neurons: 112\n",
      "[[32  6]\n",
      " [ 8 53]]\n",
      "==========\n",
      "score: 0.878787878788\n",
      "n_neurons: 113\n",
      "[[32  6]\n",
      " [ 6 55]]\n",
      "==========\n",
      "score: 0.868686868687\n",
      "n_neurons: 114\n",
      "[[32  6]\n",
      " [ 7 54]]\n",
      "==========\n",
      "score: 0.888888888889\n",
      "n_neurons: 115\n",
      "[[34  4]\n",
      " [ 7 54]]\n",
      "==========\n",
      "score: 0.868686868687\n",
      "n_neurons: 116\n",
      "[[33  5]\n",
      " [ 8 53]]\n",
      "==========\n",
      "score: 0.858585858586\n",
      "n_neurons: 117\n",
      "[[34  4]\n",
      " [10 51]]\n",
      "==========\n",
      "score: 0.686868686869\n",
      "n_neurons: 118\n",
      "[[15 23]\n",
      " [ 8 53]]\n",
      "==========\n",
      "score: 0.888888888889\n",
      "n_neurons: 119\n",
      "[[33  5]\n",
      " [ 6 55]]\n"
     ]
    }
   ],
   "source": [
    "#Using a OVR\n",
    "#One-vs-the-rest (OvR) multiclass/multilabel strategy\n",
    "clf_ovr = OneVsRestClassifier(SVC(kernel='linear', C=0.3))\n",
    "clf_ovr.fit(X_train_vlad, y_train_vlad)\n",
    "print('==========')\n",
    "print('train score:' + str(clf_ovr.score(X_train_vlad,y_train_vlad)))\n",
    "print('test score:' + str(clf_ovr.score(X_test_vlad,y_test_vlad)))"
   ]
  },
  {
   "cell_type": "code",
   "execution_count": null,
   "metadata": {},
   "outputs": [],
   "source": []
  }
 ],
 "metadata": {
  "kernelspec": {
   "display_name": "Python 3",
   "language": "python",
   "name": "python3"
  },
  "language_info": {
   "codemirror_mode": {
    "name": "ipython",
    "version": 3
   },
   "file_extension": ".py",
   "mimetype": "text/x-python",
   "name": "python",
   "nbconvert_exporter": "python",
   "pygments_lexer": "ipython3",
   "version": "3.5.4"
  }
 },
 "nbformat": 4,
 "nbformat_minor": 2
}
